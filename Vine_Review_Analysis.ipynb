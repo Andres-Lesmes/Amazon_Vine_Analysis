{
  "nbformat": 4,
  "nbformat_minor": 0,
  "metadata": {
    "colab": {
      "name": "Vine_Review_Analysis.ipynb",
      "provenance": [],
      "collapsed_sections": []
    },
    "kernelspec": {
      "name": "python3",
      "display_name": "Python 3"
    }
  },
  "cells": [
    {
      "cell_type": "code",
      "metadata": {
        "colab": {
          "base_uri": "https://localhost:8080/"
        },
        "id": "qO0Xv_NNsBZM",
        "outputId": "e4420bd3-9441-4e4d-fe41-27517a3b5365"
      },
      "source": [
        "import os\n",
        "# Find the latest version of spark 2.0  from http://www-us.apache.org/dist/spark/ and enter as the spark version\n",
        "# For example:\n",
        "# spark_version = 'spark-3.0.0'\n",
        "spark_version = 'spark-3.0.1'\n",
        "os.environ['SPARK_VERSION']=spark_version\n",
        "\n",
        "# Install Spark and Java\n",
        "!apt-get update\n",
        "!apt-get install openjdk-11-jdk-headless -qq > /dev/null\n",
        "!wget -q http://www-us.apache.org/dist/spark/$SPARK_VERSION/$SPARK_VERSION-bin-hadoop2.7.tgz\n",
        "!tar xf $SPARK_VERSION-bin-hadoop2.7.tgz\n",
        "!pip install -q findspark\n",
        "\n",
        "# Set Environment Variables\n",
        "import os\n",
        "os.environ[\"JAVA_HOME\"] = \"/usr/lib/jvm/java-11-openjdk-amd64\"\n",
        "os.environ[\"SPARK_HOME\"] = f\"/content/{spark_version}-bin-hadoop2.7\"\n",
        "\n",
        "# Start a SparkSession\n",
        "import findspark\n",
        "findspark.init()"
      ],
      "execution_count": null,
      "outputs": [
        {
          "output_type": "stream",
          "text": [
            "Get:1 https://cloud.r-project.org/bin/linux/ubuntu bionic-cran40/ InRelease [3,626 B]\n",
            "Ign:2 https://developer.download.nvidia.com/compute/cuda/repos/ubuntu1804/x86_64  InRelease\n",
            "Ign:3 https://developer.download.nvidia.com/compute/machine-learning/repos/ubuntu1804/x86_64  InRelease\n",
            "Get:4 https://developer.download.nvidia.com/compute/cuda/repos/ubuntu1804/x86_64  Release [697 B]\n",
            "Hit:5 https://developer.download.nvidia.com/compute/machine-learning/repos/ubuntu1804/x86_64  Release\n",
            "Get:6 https://developer.download.nvidia.com/compute/cuda/repos/ubuntu1804/x86_64  Release.gpg [836 B]\n",
            "Get:7 http://ppa.launchpad.net/c2d4u.team/c2d4u4.0+/ubuntu bionic InRelease [15.9 kB]\n",
            "Get:8 http://security.ubuntu.com/ubuntu bionic-security InRelease [88.7 kB]\n",
            "Hit:10 http://archive.ubuntu.com/ubuntu bionic InRelease\n",
            "Get:11 http://archive.ubuntu.com/ubuntu bionic-updates InRelease [88.7 kB]\n",
            "Ign:12 https://developer.download.nvidia.com/compute/cuda/repos/ubuntu1804/x86_64  Packages\n",
            "Get:12 https://developer.download.nvidia.com/compute/cuda/repos/ubuntu1804/x86_64  Packages [442 kB]\n",
            "Hit:13 http://ppa.launchpad.net/graphics-drivers/ppa/ubuntu bionic InRelease\n",
            "Get:14 http://archive.ubuntu.com/ubuntu bionic-backports InRelease [74.6 kB]\n",
            "Get:15 http://security.ubuntu.com/ubuntu bionic-security/main amd64 Packages [1,781 kB]\n",
            "Get:16 http://ppa.launchpad.net/c2d4u.team/c2d4u4.0+/ubuntu bionic/main Sources [1,688 kB]\n",
            "Get:17 http://archive.ubuntu.com/ubuntu bionic-updates/multiverse amd64 Packages [54.3 kB]\n",
            "Get:18 http://archive.ubuntu.com/ubuntu bionic-updates/universe amd64 Packages [2,130 kB]\n",
            "Get:19 http://security.ubuntu.com/ubuntu bionic-security/universe amd64 Packages [1,365 kB]\n",
            "Get:20 http://archive.ubuntu.com/ubuntu bionic-updates/main amd64 Packages [2,209 kB]\n",
            "Get:21 http://archive.ubuntu.com/ubuntu bionic-updates/restricted amd64 Packages [252 kB]\n",
            "Get:22 http://ppa.launchpad.net/c2d4u.team/c2d4u4.0+/ubuntu bionic/main amd64 Packages [864 kB]\n",
            "Fetched 11.1 MB in 5s (2,069 kB/s)\n",
            "Reading package lists... Done\n"
          ],
          "name": "stdout"
        }
      ]
    },
    {
      "cell_type": "code",
      "metadata": {
        "id": "M0OTGfGytig_"
      },
      "source": [
        "from pyspark.sql import SparkSession\n",
        "spark = SparkSession.builder.appName(\"BigData-Challenge\").config(\"spark.driver.extraClassPath\",\"/content/postgresql-42.2.16.jar\").getOrCreate()"
      ],
      "execution_count": null,
      "outputs": []
    },
    {
      "cell_type": "code",
      "metadata": {
        "colab": {
          "base_uri": "https://localhost:8080/"
        },
        "id": "TzskJbTQttvq",
        "outputId": "a842cf57-30a4-4be7-a19b-8b0f98f1f02a"
      },
      "source": [
        "from pyspark import SparkFiles\n",
        "url = \"https://s3.amazonaws.com/amazon-reviews-pds/tsv/amazon_reviews_us_Automotive_v1_00.tsv.gz\"\n",
        "spark.sparkContext.addFile(url)\n",
        "df = spark.read.option(\"encoding\", \"UTF-8\").csv(SparkFiles.get(\"\"), sep=\"\\t\", header=True, inferSchema=True)\n",
        "df.show(truncate=False)"
      ],
      "execution_count": null,
      "outputs": [
        {
          "output_type": "stream",
          "text": [
            "+-----------+-----------+--------------+----------+--------------+---------------------------------------------------------------------------------------------------------------------+----------------+-----------+-------------+-----------+----+-----------------+---------------------------------------------------------+-------------------------------------------------------------------------------------------------------------------------------------------------------------------------------------------------------------------------------------------------------------------------------------------------------------------------------------------------------------------------------------------------------------------------------------------------------------------------------------------------------------------------------------------------------------------------------------------------------------------------------------------------------------------------------------------------------------------+-----------+\n",
            "|marketplace|customer_id|review_id     |product_id|product_parent|product_title                                                                                                        |product_category|star_rating|helpful_votes|total_votes|vine|verified_purchase|review_headline                                          |review_body                                                                                                                                                                                                                                                                                                                                                                                                                                                                                                                                                                                                                                                                                                        |review_date|\n",
            "+-----------+-----------+--------------+----------+--------------+---------------------------------------------------------------------------------------------------------------------+----------------+-----------+-------------+-----------+----+-----------------+---------------------------------------------------------+-------------------------------------------------------------------------------------------------------------------------------------------------------------------------------------------------------------------------------------------------------------------------------------------------------------------------------------------------------------------------------------------------------------------------------------------------------------------------------------------------------------------------------------------------------------------------------------------------------------------------------------------------------------------------------------------------------------------+-----------+\n",
            "|US         |36075342   |RAB23OVFNCXZQ |B00LPRXQ4Y|339193102     |17\" 2003-2006 Ford EXPEDITION Ford F150 2004-2008 OEM Chrome Center Cap Hubcap Wheel Cover 3518 5L34-1A096-GA        |Automotive      |1          |0            |0          |N   |Y                |As it was used,                                          |As it was used, the method that Ford used to attach it to the wheel was worn and thus the cap flew off into the night on a gravel road                                                                                                                                                                                                                                                                                                                                                                                                                                                                                                                                                                             |2015-08-31 |\n",
            "|US         |42462164   |R3NORADVJO6IE6|B000C7S0TO|907684644     |Spectra Premium CU1909 Complete Radiator for Toyota Camry                                                            |Automotive      |5          |0            |0          |N   |Y                |Five Stars                                               |Put it in fine, no problems. Shipping was decent 5 days.                                                                                                                                                                                                                                                                                                                                                                                                                                                                                                                                                                                                                                                           |2015-08-31 |\n",
            "|US         |21241933   |R299F4SO98S5OO|B000CO9WE4|752246352     |K&N E-4665 High Performance Replacement Industrial Air Filter                                                        |Automotive      |5          |1            |1          |N   |Y                |Great fit and performance on the surface drive motor.    |Fit wonderfully on my 36HP Pro-Drive motor.                                                                                                                                                                                                                                                                                                                                                                                                                                                                                                                                                                                                                                                                        |2015-08-31 |\n",
            "|US         |52570308   |R2DA9DOT03UW6I|B000GKD5NI|105401756     |Suncutters Rear Window Shade                                                                                         |Automotive      |5          |2            |3          |N   |Y                |Good for the price. Fits fairly good on 2010 Toyota Camry|Good for the price!  So far I have put it up in the back window of my 2010 Camry and after several times using my spit and pushing very hard on the suction cups so that you get a black circle effect from looking at it from the outside of the window, they have stuck and have not come off at all.  Make sure you use spit and apply pressure around the entire suction cup to make a secure seal.  Like I said from outside it should look like an all black circle if you have a nice seal going.  Has been up for around one month and has stayed.  It could have been made a little wider as it doesn't cover the entire back window top to bottom, but does seem to be pretty good coverage side to side.|2015-08-31 |\n",
            "|US         |38200102   |R2OGCH681EQHU6|B009SDA7TE|728471129     |Lug Nuts Landcruiser Tundra OEM Mag 14x1.5 Thread Set of 20 Pcs                                                      |Automotive      |5          |0            |0          |N   |Y                |Five Stars                                               |Fit perfectly on my 2012 Tundra with stock alu rims.                                                                                                                                                                                                                                                                                                                                                                                                                                                                                                                                                                                                                                                               |2015-08-31 |\n",
            "|US         |34866169   |R2JMKIC16MHD7 |B00KV15KRG|962286893     |Fits 2007-2009 Honda CR-V Real Gray Leather Seat Armrest Covers (Leather Part Only)                                  |Automotive      |5          |2            |2          |N   |Y                |Fit Well and Better Quality                              |Product fits well and closely matches color of original equipment.....much better quality than the original.                                                                                                                                                                                                                                                                                                                                                                                                                                                                                                                                                                                                       |2015-08-31 |\n",
            "|US         |184627     |R1DB5DA7CWWTI8|B0002JMAKW|267002949     |Castrol 12614 Dot 4 Synthetic Brake Fluid                                                                            |Automotive      |5          |0            |0          |N   |Y                |convenient, fast delivery,                               |convenient ,fast delivery, and fair price                                                                                                                                                                                                                                                                                                                                                                                                                                                                                                                                                                                                                                                                          |2015-08-31 |\n",
            "|US         |2975964    |R1N8XWFDK4QACP|B00XJKMM6S|570789093     |New Power Window Switch for 1990-2003 Mitsubishi Montero Pajero V31 V32 # MR753373 MB781916                          |Automotive      |5          |0            |0          |N   |Y                |Five Stars                                               |is good                                                                                                                                                                                                                                                                                                                                                                                                                                                                                                                                                                                                                                                                                                            |2015-08-31 |\n",
            "|US         |40946484   |R19VFLX6MRU0CX|B000C5CEKC|389524802     |Motorad MGC-791 Locking Fuel Cap                                                                                     |Automotive      |5          |0            |0          |N   |Y                |GOOD deal.  Great cap                                    |wonderful.  if you need a locking cap, and we did for our jeep grand cherokee as there was a rash of gas siphoning last winter, this is a good one.  no problems.                                                                                                                                                                                                                                                                                                                                                                                                                                                                                                                                                  |2015-08-31 |\n",
            "|US         |12554469   |RLTD8YDGTP9PT |B00GD9R2A8|21425394      |Genuine Ford AL3Z-17032-A Wheel Lug Nut Wrench                                                                       |Automotive      |1          |0            |0          |N   |Y                |Does not fit my Ford Taurus                              |Does not work with my Ford Taurus. But there's no description on this item whether it will or will not.                                                                                                                                                                                                                                                                                                                                                                                                                                                                                                                                                                                                            |2015-08-31 |\n",
            "|US         |35335277   |R78B5LCFJ52SR |B00RM327NG|816815445     |Air Vent Smartphone Car Mount w/ Magnetic 1 Step Mounting Technology - Best Cell Phone Holder for Your Car           |Automotive      |4          |0            |0          |N   |Y                |Not bad!                                                 |I really loved this little mount; now I like it. It fell a little more often than I hoped (maybe my phone was too heavy? Maybe i didn't connect the magnet exactly?). Either way, it was great when I needed the GPS. It did eventually fall off one night with the phone and disappeared into my car. I found it much later, attached to a magnet in my car door and smashed from my closing the door. So GREAT idea, but the magnet is weird.                                                                                                                                                                                                                                                                    |2015-08-31 |\n",
            "|US         |44957003   |R33SKWL0HEQIQ9|B0071NL7UQ|192225755     |FDJ New Replacement Honda Gas Fule Tank                                                                              |Automotive      |5          |0            |0          |N   |Y                |Five Stars                                               |Just what I wanted.                                                                                                                                                                                                                                                                                                                                                                                                                                                                                                                                                                                                                                                                                                |2015-08-31 |\n",
            "|US         |444125     |R1HIOV0UX7P13D|B00DSOL0FY|849414056     |Omix-Ada 17402.09 Oil Fill Plug                                                                                      |Automotive      |5          |0            |0          |N   |Y                |Five Stars                                               |Great product and fast service.                                                                                                                                                                                                                                                                                                                                                                                                                                                                                                                                                                                                                                                                                    |2015-08-31 |\n",
            "|US         |35829199   |R4WS0E0MSP9DH |B00GRV48TK|651316983     |GMB 530-2480 Fuel Pump Module Assembly                                                                               |Automotive      |5          |2            |2          |N   |Y                |Well made                                                |Appears to be well made. It does what it's supposed to do.                                                                                                                                                                                                                                                                                                                                                                                                                                                                                                                                                                                                                                                         |2015-08-31 |\n",
            "|US         |16825098   |R2RUIDUMDKG7P |B000E4PCGE|694793259     |00-03 NISSAN SENTRA MIRROR RH (PASSENGER SIDE), Power, Non-Heated (2000 00 2001 01 2002 02 2003 03) NS35ER 963015M000|Automotive      |3          |0            |0          |N   |Y                |new and a great look. Only bad thing is that one of ...  |Product was as described, new and a great look. Only bad thing is that one of the screws was stripped so I couldn't tighten all three.                                                                                                                                                                                                                                                                                                                                                                                                                                                                                                                                                                             |2015-08-31 |\n",
            "|US         |2583392    |RZSA6L4M4D4XA |B005Z8HAUK|732072782     |Slime 40026 2X Heavy Duty Direct Drive Tire Inflator                                                                 |Automotive      |5          |0            |0          |N   |Y                |Five Stars                                               |SO much quieter than other compressors.  VERY quick as well.  You will not regret this purchase.                                                                                                                                                                                                                                                                                                                                                                                                                                                                                                                                                                                                                   |2015-08-31 |\n",
            "|US         |10127903   |R1O3NGQNCFXKR6|B0043AV4NK|533179941     |MegaBrand N1 4\" Burnt Tip Muffler Exhaust 2.5\" Inlet Universal                                                       |Automotive      |5          |0            |0          |N   |Y                |decent                                                   |Great for the price, only<br />Issue was the silencer was a little bent and it rattles when the car is revved. Overall great quality                                                                                                                                                                                                                                                                                                                                                                                                                                                                                                                                                                               |2015-08-31 |\n",
            "|US         |17937309   |R2IEM66RCBJ95A|B00CDHD76C|126169507     |Jackly 45-in-One Mobile Phone Screwdriver Set (JK-6089)                                                              |Automotive      |5          |0            |0          |N   |Y                |Nice set of tools for the edc bag                        |Nice set of tools for the edc bag...I have used this a few times now since purchase and there seems to be a bit to fit everything in a small compact package                                                                                                                                                                                                                                                                                                                                                                                                                                                                                                                                                       |2015-08-31 |\n",
            "|US         |17145638   |R2BQ9O517KSCP8|B000CF1XO0|475232737     |Bosch 3397118942 Aerotwin Wiper Blades - Set of 2                                                                    |Automotive      |5          |0            |0          |N   |N                |Five Stars                                               |Everything ok                                                                                                                                                                                                                                                                                                                                                                                                                                                                                                                                                                                                                                                                                                      |2015-08-31 |\n",
            "|US         |32813839   |R1KF86427VR7AC|B003VLBPJA|897802619     |Heavy-Duty 15\" Cargo Net for Motorcycles, ATVs - Stretches to 30\"                                                    |Automotive      |3          |0            |0          |N   |Y                |Three Stars                                              |I hope the hooks are strong enough.                                                                                                                                                                                                                                                                                                                                                                                                                                                                                                                                                                                                                                                                                |2015-08-31 |\n",
            "+-----------+-----------+--------------+----------+--------------+---------------------------------------------------------------------------------------------------------------------+----------------+-----------+-------------+-----------+----+-----------------+---------------------------------------------------------+-------------------------------------------------------------------------------------------------------------------------------------------------------------------------------------------------------------------------------------------------------------------------------------------------------------------------------------------------------------------------------------------------------------------------------------------------------------------------------------------------------------------------------------------------------------------------------------------------------------------------------------------------------------------------------------------------------------------+-----------+\n",
            "only showing top 20 rows\n",
            "\n"
          ],
          "name": "stdout"
        }
      ]
    },
    {
      "cell_type": "code",
      "metadata": {
        "colab": {
          "base_uri": "https://localhost:8080/"
        },
        "id": "irMubjWxtx_v",
        "outputId": "2081fe88-532d-4bf3-9e80-60067cddd89e"
      },
      "source": [
        "# Recreate the vine_table\n",
        "vine_df = df.select([\"review_id\", \"star_rating\", \"helpful_votes\", \"total_votes\", \"vine\", \"verified_purchase\"])\n",
        "vine_df.show(truncate=False)"
      ],
      "execution_count": null,
      "outputs": [
        {
          "output_type": "stream",
          "text": [
            "+--------------+-----------+-------------+-----------+----+-----------------+\n",
            "|review_id     |star_rating|helpful_votes|total_votes|vine|verified_purchase|\n",
            "+--------------+-----------+-------------+-----------+----+-----------------+\n",
            "|RAB23OVFNCXZQ |1          |0            |0          |N   |Y                |\n",
            "|R3NORADVJO6IE6|5          |0            |0          |N   |Y                |\n",
            "|R299F4SO98S5OO|5          |1            |1          |N   |Y                |\n",
            "|R2DA9DOT03UW6I|5          |2            |3          |N   |Y                |\n",
            "|R2OGCH681EQHU6|5          |0            |0          |N   |Y                |\n",
            "|R2JMKIC16MHD7 |5          |2            |2          |N   |Y                |\n",
            "|R1DB5DA7CWWTI8|5          |0            |0          |N   |Y                |\n",
            "|R1N8XWFDK4QACP|5          |0            |0          |N   |Y                |\n",
            "|R19VFLX6MRU0CX|5          |0            |0          |N   |Y                |\n",
            "|RLTD8YDGTP9PT |1          |0            |0          |N   |Y                |\n",
            "|R78B5LCFJ52SR |4          |0            |0          |N   |Y                |\n",
            "|R33SKWL0HEQIQ9|5          |0            |0          |N   |Y                |\n",
            "|R1HIOV0UX7P13D|5          |0            |0          |N   |Y                |\n",
            "|R4WS0E0MSP9DH |5          |2            |2          |N   |Y                |\n",
            "|R2RUIDUMDKG7P |3          |0            |0          |N   |Y                |\n",
            "|RZSA6L4M4D4XA |5          |0            |0          |N   |Y                |\n",
            "|R1O3NGQNCFXKR6|5          |0            |0          |N   |Y                |\n",
            "|R2IEM66RCBJ95A|5          |0            |0          |N   |Y                |\n",
            "|R2BQ9O517KSCP8|5          |0            |0          |N   |N                |\n",
            "|R1KF86427VR7AC|3          |0            |0          |N   |Y                |\n",
            "+--------------+-----------+-------------+-----------+----+-----------------+\n",
            "only showing top 20 rows\n",
            "\n"
          ],
          "name": "stdout"
        }
      ]
    },
    {
      "cell_type": "code",
      "metadata": {
        "colab": {
          "base_uri": "https://localhost:8080/"
        },
        "id": "93rfUYq5uPgl",
        "outputId": "1fdc5066-e68b-4035-af3e-18759f2fbe34"
      },
      "source": [
        "# Filter the DataFrame and create a new DataFrame where the total_votes count is equal to or greater than 20\n",
        "from pyspark.sql.functions import col\n",
        "filtered_df = vine_df.filter(col(\"total_votes\") >= \"20\")\n",
        "filtered_df.show(truncate=False)"
      ],
      "execution_count": null,
      "outputs": [
        {
          "output_type": "stream",
          "text": [
            "+--------------+-----------+-------------+-----------+----+-----------------+\n",
            "|review_id     |star_rating|helpful_votes|total_votes|vine|verified_purchase|\n",
            "+--------------+-----------+-------------+-----------+----+-----------------+\n",
            "|R1T4FVSABO0IDP|5          |8            |31         |N   |Y                |\n",
            "|R397VXR1GAK6C9|5          |21           |21         |N   |Y                |\n",
            "|R2H6KB9RHS17GA|3          |59           |69         |N   |Y                |\n",
            "|R3HAK0MUN9F5IT|1          |6            |28         |N   |Y                |\n",
            "|R29UTZTOPUVRSV|5          |21           |21         |N   |Y                |\n",
            "|RY9FLUD8VG6XD |4          |27           |32         |N   |Y                |\n",
            "|R3Q5NAY8BGAKHI|5          |34           |40         |N   |Y                |\n",
            "|RRVJ7TYDEK7EO |5          |30           |30         |N   |Y                |\n",
            "|R2S4CHISQA2WDH|5          |17           |20         |N   |Y                |\n",
            "|R1JNALJ77OULPH|4          |57           |65         |N   |Y                |\n",
            "|R13YNG792BCR77|5          |19           |20         |N   |Y                |\n",
            "|R1RYG8MVOPK4Q2|5          |18           |20         |N   |Y                |\n",
            "|R2V9VX4YQ8TQ24|5          |33           |36         |N   |Y                |\n",
            "|R2UCJ0GANHZVA8|5          |21           |21         |N   |Y                |\n",
            "|R8MJZ3925MBK0 |5          |96           |98         |N   |Y                |\n",
            "|R378YNR0LMM3DP|2          |41           |47         |N   |Y                |\n",
            "|R2UIEYEJPJC9EM|5          |64           |70         |N   |N                |\n",
            "|RX2K8ERZ5BENR |5          |52           |56         |N   |Y                |\n",
            "|R34VOML4JURU4E|1          |34           |35         |N   |Y                |\n",
            "|R21FPJN76XM6J8|3          |43           |52         |N   |Y                |\n",
            "+--------------+-----------+-------------+-----------+----+-----------------+\n",
            "only showing top 20 rows\n",
            "\n"
          ],
          "name": "stdout"
        }
      ]
    },
    {
      "cell_type": "code",
      "metadata": {
        "colab": {
          "base_uri": "https://localhost:8080/"
        },
        "id": "AgP0VKXDyRdy",
        "outputId": "b424de32-2256-4cf8-dfa1-4155cafb97ff"
      },
      "source": [
        "# Filter the DataFrame created in step 1 and create a new DataFrame where the number of helpful_votes divided by total_votes is equal to or greater than 50%\n",
        "percentage_votes_df = filtered_df.filter((col(\"helpful_votes\")/col(\"total_votes\")) >= \"0.5\")\n",
        "percentage_votes_df.show(truncate=False)"
      ],
      "execution_count": null,
      "outputs": [
        {
          "output_type": "stream",
          "text": [
            "+--------------+-----------+-------------+-----------+----+-----------------+\n",
            "|review_id     |star_rating|helpful_votes|total_votes|vine|verified_purchase|\n",
            "+--------------+-----------+-------------+-----------+----+-----------------+\n",
            "|R397VXR1GAK6C9|5          |21           |21         |N   |Y                |\n",
            "|R2H6KB9RHS17GA|3          |59           |69         |N   |Y                |\n",
            "|R29UTZTOPUVRSV|5          |21           |21         |N   |Y                |\n",
            "|RY9FLUD8VG6XD |4          |27           |32         |N   |Y                |\n",
            "|R3Q5NAY8BGAKHI|5          |34           |40         |N   |Y                |\n",
            "|RRVJ7TYDEK7EO |5          |30           |30         |N   |Y                |\n",
            "|R2S4CHISQA2WDH|5          |17           |20         |N   |Y                |\n",
            "|R1JNALJ77OULPH|4          |57           |65         |N   |Y                |\n",
            "|R13YNG792BCR77|5          |19           |20         |N   |Y                |\n",
            "|R1RYG8MVOPK4Q2|5          |18           |20         |N   |Y                |\n",
            "|R2V9VX4YQ8TQ24|5          |33           |36         |N   |Y                |\n",
            "|R2UCJ0GANHZVA8|5          |21           |21         |N   |Y                |\n",
            "|R8MJZ3925MBK0 |5          |96           |98         |N   |Y                |\n",
            "|R378YNR0LMM3DP|2          |41           |47         |N   |Y                |\n",
            "|R2UIEYEJPJC9EM|5          |64           |70         |N   |N                |\n",
            "|RX2K8ERZ5BENR |5          |52           |56         |N   |Y                |\n",
            "|R34VOML4JURU4E|1          |34           |35         |N   |Y                |\n",
            "|R21FPJN76XM6J8|3          |43           |52         |N   |Y                |\n",
            "|R1YMR7QJ7OR3DE|1          |21           |22         |N   |Y                |\n",
            "|R104OMNNT1A7HJ|5          |20           |24         |N   |Y                |\n",
            "+--------------+-----------+-------------+-----------+----+-----------------+\n",
            "only showing top 20 rows\n",
            "\n"
          ],
          "name": "stdout"
        }
      ]
    },
    {
      "cell_type": "code",
      "metadata": {
        "colab": {
          "base_uri": "https://localhost:8080/"
        },
        "id": "ZPTUWwBU1TGE",
        "outputId": "7870da2b-af3e-43c2-d820-1414bb9d03da"
      },
      "source": [
        "# Filter the DataFrame created in step 2 to obtain the rows where a review was written as part of the Vine program (paid), vine == 'Y'.\n",
        "paid_df = percentage_votes_df.filter(col(\"vine\") == \"Y\")\n",
        "paid_df.show(truncate=False)"
      ],
      "execution_count": null,
      "outputs": [
        {
          "output_type": "stream",
          "text": [
            "+--------------+-----------+-------------+-----------+----+-----------------+\n",
            "|review_id     |star_rating|helpful_votes|total_votes|vine|verified_purchase|\n",
            "+--------------+-----------+-------------+-----------+----+-----------------+\n",
            "|REKN4PLM5174P |4          |219          |225        |Y   |N                |\n",
            "|RQOG8IIJX7CKB |4          |21           |27         |Y   |N                |\n",
            "|R33EJ9PSZR13CM|4          |26           |30         |Y   |N                |\n",
            "|RD2BFV896F321 |5          |16           |20         |Y   |N                |\n",
            "|R37GSXLA11XF8N|5          |30           |34         |Y   |N                |\n",
            "|RQBQYBM9VMSH4 |5          |19           |20         |Y   |N                |\n",
            "|R2YE4F9ESKFWEK|3          |20           |23         |Y   |N                |\n",
            "|R1E4L7HHB8TBP9|4          |80           |92         |Y   |N                |\n",
            "|R2C2WXDXMZL005|2          |20           |25         |Y   |N                |\n",
            "|R1PPY4U0K03KTE|5          |31           |38         |Y   |N                |\n",
            "|R12SMR88Q45MWQ|3          |23           |24         |Y   |N                |\n",
            "|R188VWFDBDWRR0|4          |35           |38         |Y   |N                |\n",
            "|RUE8J5M74KJUP |1          |37           |42         |Y   |N                |\n",
            "|R3IMZIN7Y64IP1|1          |19           |23         |Y   |N                |\n",
            "|R17RGR2YSZ5UDG|4          |19           |24         |Y   |N                |\n",
            "|R2SBNSIBLPIIG6|4          |47           |53         |Y   |N                |\n",
            "|R197MLUGNBO8SK|5          |24           |29         |Y   |N                |\n",
            "|R21QBM40D91D00|3          |18           |25         |Y   |N                |\n",
            "|R1Z5U87WQ4LVJG|4          |89           |101        |Y   |N                |\n",
            "|RAT9CVRLRHXQZ |5          |50           |54         |Y   |N                |\n",
            "+--------------+-----------+-------------+-----------+----+-----------------+\n",
            "only showing top 20 rows\n",
            "\n"
          ],
          "name": "stdout"
        }
      ]
    },
    {
      "cell_type": "code",
      "metadata": {
        "colab": {
          "base_uri": "https://localhost:8080/"
        },
        "id": "O-3IThnt4bkh",
        "outputId": "16b5ae4c-c011-4266-9e38-ed0e5b326677"
      },
      "source": [
        "# Filter the DataFrame created in step 2 to obtain the rows where a review was written as part of the Vine program (unpaid), vine == 'N'.\n",
        "unpaid_df = percentage_votes_df.filter(col(\"vine\") == \"N\")\n",
        "unpaid_df.show(truncate=False)"
      ],
      "execution_count": null,
      "outputs": [
        {
          "output_type": "stream",
          "text": [
            "+--------------+-----------+-------------+-----------+----+-----------------+\n",
            "|review_id     |star_rating|helpful_votes|total_votes|vine|verified_purchase|\n",
            "+--------------+-----------+-------------+-----------+----+-----------------+\n",
            "|R397VXR1GAK6C9|5          |21           |21         |N   |Y                |\n",
            "|R2H6KB9RHS17GA|3          |59           |69         |N   |Y                |\n",
            "|R29UTZTOPUVRSV|5          |21           |21         |N   |Y                |\n",
            "|RY9FLUD8VG6XD |4          |27           |32         |N   |Y                |\n",
            "|R3Q5NAY8BGAKHI|5          |34           |40         |N   |Y                |\n",
            "|RRVJ7TYDEK7EO |5          |30           |30         |N   |Y                |\n",
            "|R2S4CHISQA2WDH|5          |17           |20         |N   |Y                |\n",
            "|R1JNALJ77OULPH|4          |57           |65         |N   |Y                |\n",
            "|R13YNG792BCR77|5          |19           |20         |N   |Y                |\n",
            "|R1RYG8MVOPK4Q2|5          |18           |20         |N   |Y                |\n",
            "|R2V9VX4YQ8TQ24|5          |33           |36         |N   |Y                |\n",
            "|R2UCJ0GANHZVA8|5          |21           |21         |N   |Y                |\n",
            "|R8MJZ3925MBK0 |5          |96           |98         |N   |Y                |\n",
            "|R378YNR0LMM3DP|2          |41           |47         |N   |Y                |\n",
            "|R2UIEYEJPJC9EM|5          |64           |70         |N   |N                |\n",
            "|RX2K8ERZ5BENR |5          |52           |56         |N   |Y                |\n",
            "|R34VOML4JURU4E|1          |34           |35         |N   |Y                |\n",
            "|R21FPJN76XM6J8|3          |43           |52         |N   |Y                |\n",
            "|R1YMR7QJ7OR3DE|1          |21           |22         |N   |Y                |\n",
            "|R104OMNNT1A7HJ|5          |20           |24         |N   |Y                |\n",
            "+--------------+-----------+-------------+-----------+----+-----------------+\n",
            "only showing top 20 rows\n",
            "\n"
          ],
          "name": "stdout"
        }
      ]
    },
    {
      "cell_type": "code",
      "metadata": {
        "colab": {
          "base_uri": "https://localhost:8080/"
        },
        "id": "lfWDQbEx9k0c",
        "outputId": "5670e2ee-12c7-42e4-e510-3719f53b081c"
      },
      "source": [
        "# Find the total number of reviews\n",
        "percentage_votes_df.count()"
      ],
      "execution_count": null,
      "outputs": [
        {
          "output_type": "execute_result",
          "data": {
            "text/plain": [
              "24824"
            ]
          },
          "metadata": {
            "tags": []
          },
          "execution_count": 9
        }
      ]
    },
    {
      "cell_type": "code",
      "metadata": {
        "colab": {
          "base_uri": "https://localhost:8080/"
        },
        "id": "1Grc2sDHBZmH",
        "outputId": "2006e219-e0c3-415c-c223-39acb2123eff"
      },
      "source": [
        "# Find the number of 5-star reviews\n",
        "percentage_votes_df.filter(col(\"star_rating\") == \"5\").count()"
      ],
      "execution_count": null,
      "outputs": [
        {
          "output_type": "execute_result",
          "data": {
            "text/plain": [
              "12840"
            ]
          },
          "metadata": {
            "tags": []
          },
          "execution_count": 10
        }
      ]
    },
    {
      "cell_type": "code",
      "metadata": {
        "colab": {
          "base_uri": "https://localhost:8080/"
        },
        "id": "YsZsKOkNbBIO",
        "outputId": "99a076aa-d574-4053-a9e9-a151006e90dd"
      },
      "source": [
        "# Find the number of Vine reviews\n",
        "paid_df.count()"
      ],
      "execution_count": 13,
      "outputs": [
        {
          "output_type": "execute_result",
          "data": {
            "text/plain": [
              "82"
            ]
          },
          "metadata": {
            "tags": []
          },
          "execution_count": 13
        }
      ]
    },
    {
      "cell_type": "code",
      "metadata": {
        "colab": {
          "base_uri": "https://localhost:8080/"
        },
        "id": "bC2__vn9bsqy",
        "outputId": "5a1dab45-882b-403b-d3be-6b37c1dd6b49"
      },
      "source": [
        "# Find the number of non-Vine reviews\n",
        "unpaid_df.count()"
      ],
      "execution_count": 14,
      "outputs": [
        {
          "output_type": "execute_result",
          "data": {
            "text/plain": [
              "24742"
            ]
          },
          "metadata": {
            "tags": []
          },
          "execution_count": 14
        }
      ]
    },
    {
      "cell_type": "code",
      "metadata": {
        "colab": {
          "base_uri": "https://localhost:8080/"
        },
        "id": "HF5bH3XdDhBI",
        "outputId": "c9121843-1d97-49a7-e315-4109e70a0d91"
      },
      "source": [
        "# Find the percentage of 5-star reviews of paid type\n",
        "(paid_df.filter(col(\"star_rating\") == \"5\").count())/(paid_df.count())"
      ],
      "execution_count": 15,
      "outputs": [
        {
          "output_type": "execute_result",
          "data": {
            "text/plain": [
              "0.4024390243902439"
            ]
          },
          "metadata": {
            "tags": []
          },
          "execution_count": 15
        }
      ]
    },
    {
      "cell_type": "code",
      "metadata": {
        "colab": {
          "base_uri": "https://localhost:8080/"
        },
        "id": "H2ny6gVRFQw3",
        "outputId": "25e228ae-c716-4bb1-b38f-14e9017d6016"
      },
      "source": [
        "# Find the percentage of 5-star reviews of unpaid type\n",
        "(unpaid_df.filter(col(\"star_rating\") == \"5\").count())/(unpaid_df.count())"
      ],
      "execution_count": 16,
      "outputs": [
        {
          "output_type": "execute_result",
          "data": {
            "text/plain": [
              "0.5176218575701237"
            ]
          },
          "metadata": {
            "tags": []
          },
          "execution_count": 16
        }
      ]
    },
    {
      "cell_type": "code",
      "metadata": {
        "colab": {
          "base_uri": "https://localhost:8080/"
        },
        "id": "DOQDfkW1dP0b",
        "outputId": "42a3c75d-6f52-4e2c-88e2-2b91211f1f21"
      },
      "source": [
        "# Find the count of vine 5-star reviews\n",
        "paid_df.filter(col(\"star_rating\") == \"5\").count()"
      ],
      "execution_count": 17,
      "outputs": [
        {
          "output_type": "execute_result",
          "data": {
            "text/plain": [
              "33"
            ]
          },
          "metadata": {
            "tags": []
          },
          "execution_count": 17
        }
      ]
    },
    {
      "cell_type": "code",
      "metadata": {
        "colab": {
          "base_uri": "https://localhost:8080/"
        },
        "id": "r5j-1o1RdyYb",
        "outputId": "cd609d48-b5ce-412b-ace1-5f2be4c84177"
      },
      "source": [
        "# Find the count of non-vine 5-star reviews\n",
        "unpaid_df.filter(col(\"star_rating\") == \"5\").count()"
      ],
      "execution_count": 18,
      "outputs": [
        {
          "output_type": "execute_result",
          "data": {
            "text/plain": [
              "12807"
            ]
          },
          "metadata": {
            "tags": []
          },
          "execution_count": 18
        }
      ]
    }
  ]
}